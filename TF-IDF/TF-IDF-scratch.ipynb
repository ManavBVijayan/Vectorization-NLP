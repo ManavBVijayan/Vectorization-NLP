{
 "cells": [
  {
   "cell_type": "code",
   "execution_count": 1,
   "id": "6a4546f1-5fa7-4959-a57b-7d6aed970079",
   "metadata": {},
   "outputs": [],
   "source": [
    "import math\n",
    "\n",
    "# Sample corpus\n",
    "corpus = [\n",
    "    \"This is the first document.\",\n",
    "    \"This document is the second document.\",\n",
    "    \"And this is the third one.\",\n",
    "    \"Is this the first document?\"\n",
    "]\n"
   ]
  },
  {
   "cell_type": "code",
   "execution_count": 2,
   "id": "d509029d-3bc1-4d82-90ce-4065cfdc42f2",
   "metadata": {},
   "outputs": [],
   "source": [
    "# Function to calculate Term Frequency (TF)\n",
    "def calculate_tf(term, document):\n",
    "    words_in_document = document.split()\n",
    "    term_count = words_in_document.count(term)\n",
    "    return term_count / len(words_in_document)\n",
    "\n",
    "# Function to calculate Inverse Document Frequency (IDF)\n",
    "def calculate_idf(term, corpus):\n",
    "    num_documents_with_term = sum(1 for doc in corpus if term in doc)\n",
    "    return math.log(len(corpus) / (num_documents_with_term + 1)) + 1\n",
    "\n",
    "# Function to calculate TF-IDF\n",
    "def calculate_tfidf(term, document, corpus):\n",
    "    tf = calculate_tf(term, document)\n",
    "    idf = calculate_idf(term, corpus)\n",
    "    return tf * idf"
   ]
  },
  {
   "cell_type": "code",
   "execution_count": 3,
   "id": "e9898a69-c59b-4767-af54-df6ac759f1f3",
   "metadata": {},
   "outputs": [
    {
     "name": "stdout",
     "output_type": "stream",
     "text": [
      "Term Frequency (TF) for 'document' in the document: 0.16666666666666666\n",
      "Inverse Document Frequency (IDF) for 'document' in the corpus: 1.0\n",
      "TF-IDF for 'document' in the document: 0.16666666666666666\n"
     ]
    }
   ],
   "source": [
    "# Example usage\n",
    "term_example = \"document\"\n",
    "document_example = corpus[1]\n",
    "\n",
    "# Calculate TF, IDF, and TF-IDF for the example term and document\n",
    "tf_example = calculate_tf(term_example, document_example)\n",
    "idf_example = calculate_idf(term_example, corpus)\n",
    "tfidf_example = calculate_tfidf(term_example, document_example, corpus)\n",
    "\n",
    "# Print the results\n",
    "print(f\"Term Frequency (TF) for '{term_example}' in the document: {tf_example}\")\n",
    "print(f\"Inverse Document Frequency (IDF) for '{term_example}' in the corpus: {idf_example}\")\n",
    "print(f\"TF-IDF for '{term_example}' in the document: {tfidf_example}\")\n"
   ]
  }
 ],
 "metadata": {
  "kernelspec": {
   "display_name": "Python 3 (ipykernel)",
   "language": "python",
   "name": "python3"
  },
  "language_info": {
   "codemirror_mode": {
    "name": "ipython",
    "version": 3
   },
   "file_extension": ".py",
   "mimetype": "text/x-python",
   "name": "python",
   "nbconvert_exporter": "python",
   "pygments_lexer": "ipython3",
   "version": "3.10.9"
  }
 },
 "nbformat": 4,
 "nbformat_minor": 5
}
