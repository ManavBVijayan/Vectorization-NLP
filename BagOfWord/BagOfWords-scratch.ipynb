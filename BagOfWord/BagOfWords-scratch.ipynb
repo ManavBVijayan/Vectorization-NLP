{
 "cells": [
  {
   "cell_type": "code",
   "execution_count": 1,
   "id": "1025bf5f-c1ee-4c9f-b13f-f851f6b0f339",
   "metadata": {},
   "outputs": [],
   "source": [
    "from collections import Counter\n",
    "import re"
   ]
  },
  {
   "cell_type": "code",
   "execution_count": 2,
   "id": "49a35cb9-b1f2-4870-8557-fad7843d13b5",
   "metadata": {},
   "outputs": [],
   "source": [
    "corpus = [\n",
    "    \"This is the first document.\",\n",
    "    \"This document is the second document.\",\n",
    "    \"And this is the third one.\",\n",
    "    \"Is this the first document?\"\n",
    "]"
   ]
  },
  {
   "cell_type": "code",
   "execution_count": 3,
   "id": "e67bacf1-02f4-44e6-b79d-690916cfd7b3",
   "metadata": {},
   "outputs": [],
   "source": [
    "# Function to preprocess text (tokenization and lowercasing)\n",
    "def preprocess_text(text):\n",
    "    # Tokenization using regular expression\n",
    "    words = re.findall(r'\\b\\w+\\b', text.lower())\n",
    "    return words\n",
    "\n",
    "# Function to create the Bag of Words representation\n",
    "def create_bow(corpus):\n",
    "    bow = []\n",
    "    for document in corpus:\n",
    "        words = preprocess_text(document)\n",
    "        bow.extend(words)\n",
    "    return Counter(bow)"
   ]
  },
  {
   "cell_type": "code",
   "execution_count": 4,
   "id": "adcffdbe-63aa-42e6-bf8b-a08a69c07242",
   "metadata": {},
   "outputs": [
    {
     "name": "stdout",
     "output_type": "stream",
     "text": [
      "Bag of Words (BoW) Representation:\n",
      "this: 4\n",
      "is: 4\n",
      "the: 4\n",
      "first: 2\n",
      "document: 4\n",
      "second: 1\n",
      "and: 1\n",
      "third: 1\n",
      "one: 1\n"
     ]
    }
   ],
   "source": [
    "# Example usage\n",
    "bow_representation = create_bow(corpus)\n",
    "\n",
    "# Print the Bag of Words representation\n",
    "print(\"Bag of Words (BoW) Representation:\")\n",
    "for word, count in bow_representation.items():\n",
    "    print(f\"{word}: {count}\")"
   ]
  }
 ],
 "metadata": {
  "kernelspec": {
   "display_name": "Python 3 (ipykernel)",
   "language": "python",
   "name": "python3"
  },
  "language_info": {
   "codemirror_mode": {
    "name": "ipython",
    "version": 3
   },
   "file_extension": ".py",
   "mimetype": "text/x-python",
   "name": "python",
   "nbconvert_exporter": "python",
   "pygments_lexer": "ipython3",
   "version": "3.10.9"
  }
 },
 "nbformat": 4,
 "nbformat_minor": 5
}
